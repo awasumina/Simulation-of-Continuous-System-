{
  "cells": [
    {
      "cell_type": "code",
      "execution_count": 2,
      "metadata": {
        "colab": {
          "base_uri": "https://localhost:8080/"
        },
        "id": "aFq222xIYtBp",
        "outputId": "877b6e1a-891d-4858-9b52-e44524a79423"
      },
      "outputs": [
        {
          "name": "stdout",
          "output_type": "stream",
          "text": [
            "the fighter plane shot down at  12\n"
          ]
        }
      ],
      "source": [
        "import random\n",
        "import math\n",
        "time = 0\n",
        "flag = 0\n",
        "vf=20\n",
        "xf= random.randint(1,1000)\n",
        "yf=random.randint(1,1000)\n",
        "xb=random.randint(1,1000)\n",
        "yb=random.randint(1,1000)\n",
        "\n",
        "while flag ==0:\n",
        "    distance = math.sqrt((xf-xb)**2 + (yf-yb)**2)\n",
        "\n",
        "    if distance<=100:\n",
        "        print(\"the fighter plane shot down at \",time)\n",
        "        flag=1\n",
        "\n",
        "    elif distance>1000:\n",
        "        print(\"bomber escape at \",time)\n",
        "    else:  \n",
        "        xf=xf+vf*(xb-xf)/distance\n",
        "        yf=yf+vf*(yb-yf)/distance\n",
        "        xb=random.randint(1,1000)\n",
        "        yb=random.randint(1,1000)\n",
        "        time=time+1\n",
        "\n"
      ]
    }
  ],
  "metadata": {
    "colab": {
      "provenance": []
    },
    "kernelspec": {
      "display_name": "Python 3",
      "name": "python3"
    },
    "language_info": {
      "name": "python"
    }
  },
  "nbformat": 4,
  "nbformat_minor": 0
}
